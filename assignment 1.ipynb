{
 "cells": [
  {
   "cell_type": "code",
   "execution_count": 3,
   "id": "ca68c3cd-36cd-4904-9915-c7602a4ff1f6",
   "metadata": {},
   "outputs": [
    {
     "name": "stdout",
     "output_type": "stream",
     "text": [
      "5\n"
     ]
    }
   ],
   "source": [
    "#Convert an integer to a floating-point number.\n",
    "a=5\n",
    "float(a);\n",
    "print(a)\n"
   ]
  },
  {
   "cell_type": "code",
   "execution_count": 4,
   "id": "10d3115c-cbdc-4497-8d90-74a73a72dbda",
   "metadata": {},
   "outputs": [
    {
     "name": "stdout",
     "output_type": "stream",
     "text": [
      "5.0\n"
     ]
    }
   ],
   "source": [
    "print(float(a))"
   ]
  },
  {
   "cell_type": "code",
   "execution_count": 5,
   "id": "8dd0e0d8-bedb-4f38-91db-c09da87d40ea",
   "metadata": {},
   "outputs": [
    {
     "data": {
      "text/plain": [
       "int"
      ]
     },
     "execution_count": 5,
     "metadata": {},
     "output_type": "execute_result"
    }
   ],
   "source": [
    "type(a)"
   ]
  },
  {
   "cell_type": "code",
   "execution_count": 6,
   "id": "1807b252-2a3c-48bc-b42c-71903b761e8b",
   "metadata": {},
   "outputs": [
    {
     "data": {
      "text/plain": [
       "float"
      ]
     },
     "execution_count": 6,
     "metadata": {},
     "output_type": "execute_result"
    }
   ],
   "source": [
    "#Convert an float to an integer.\n",
    "b=6.5\n",
    "type(b)"
   ]
  },
  {
   "cell_type": "code",
   "execution_count": 7,
   "id": "3ef53d55-da7d-4820-ab95-0bc8c632f7c0",
   "metadata": {},
   "outputs": [
    {
     "data": {
      "text/plain": [
       "6"
      ]
     },
     "execution_count": 7,
     "metadata": {},
     "output_type": "execute_result"
    }
   ],
   "source": [
    "int(b)"
   ]
  },
  {
   "cell_type": "code",
   "execution_count": 9,
   "id": "63222a90-5753-4148-8867-4e5a8fb54531",
   "metadata": {},
   "outputs": [
    {
     "data": {
      "text/plain": [
       "int"
      ]
     },
     "execution_count": 9,
     "metadata": {},
     "output_type": "execute_result"
    }
   ],
   "source": [
    "type(int(b))"
   ]
  },
  {
   "cell_type": "code",
   "execution_count": 10,
   "id": "8841431b-4956-4a3b-b52a-67a4288966b7",
   "metadata": {},
   "outputs": [
    {
     "name": "stdout",
     "output_type": "stream",
     "text": [
      "6\n"
     ]
    }
   ],
   "source": [
    "print(int(b))"
   ]
  },
  {
   "cell_type": "code",
   "execution_count": 11,
   "id": "4d04d45b-eed9-41ac-ba21-e5eff51f80c2",
   "metadata": {},
   "outputs": [
    {
     "data": {
      "text/plain": [
       "int"
      ]
     },
     "execution_count": 11,
     "metadata": {},
     "output_type": "execute_result"
    }
   ],
   "source": [
    "#Convert an integer to a string\n",
    "integar=10\n",
    "type(integar)"
   ]
  },
  {
   "cell_type": "code",
   "execution_count": 13,
   "id": "2f846e3d-9c03-45ab-a613-c00e11913269",
   "metadata": {},
   "outputs": [
    {
     "name": "stdout",
     "output_type": "stream",
     "text": [
      "10\n"
     ]
    }
   ],
   "source": [
    "print(str(integar))"
   ]
  },
  {
   "cell_type": "code",
   "execution_count": 2,
   "id": "52f10f28-72a6-4a6d-b95f-ffbbb369bbba",
   "metadata": {},
   "outputs": [],
   "source": [
    "#convert an intezar to a string\n",
    "a=8"
   ]
  },
  {
   "cell_type": "code",
   "execution_count": 3,
   "id": "a0c9bd63-3dce-4307-a21d-793c422a3cfd",
   "metadata": {},
   "outputs": [
    {
     "data": {
      "text/plain": [
       "int"
      ]
     },
     "execution_count": 3,
     "metadata": {},
     "output_type": "execute_result"
    }
   ],
   "source": [
    "type(a)"
   ]
  },
  {
   "cell_type": "code",
   "execution_count": 4,
   "id": "93f5b5dc-a43b-4d76-978a-b176c7ebfd6a",
   "metadata": {},
   "outputs": [],
   "source": [
    "b=str(a)"
   ]
  },
  {
   "cell_type": "code",
   "execution_count": 5,
   "id": "cd1e9c60-cfed-47d6-b9e1-32c240ddd065",
   "metadata": {},
   "outputs": [
    {
     "data": {
      "text/plain": [
       "'8'"
      ]
     },
     "execution_count": 5,
     "metadata": {},
     "output_type": "execute_result"
    }
   ],
   "source": [
    "b"
   ]
  },
  {
   "cell_type": "code",
   "execution_count": 6,
   "id": "6d1023d0-5565-4b08-8d27-615bc40a6cfa",
   "metadata": {},
   "outputs": [
    {
     "data": {
      "text/plain": [
       "str"
      ]
     },
     "execution_count": 6,
     "metadata": {},
     "output_type": "execute_result"
    }
   ],
   "source": [
    "type(b)"
   ]
  },
  {
   "cell_type": "code",
   "execution_count": 8,
   "id": "c411e5b3-654f-4af6-800b-7fd4b3263afc",
   "metadata": {},
   "outputs": [
    {
     "data": {
      "text/plain": [
       "4"
      ]
     },
     "execution_count": 8,
     "metadata": {},
     "output_type": "execute_result"
    }
   ],
   "source": [
    "# Convert a list to a tuple \n",
    "A=[\"ajay\",\"vijay\",\"ram\",\"shyam\"]\n",
    "len(A)"
   ]
  },
  {
   "cell_type": "code",
   "execution_count": 9,
   "id": "767358f5-31d7-4c88-8b24-705e3b9f8bd3",
   "metadata": {},
   "outputs": [],
   "source": [
    "B=tuple(A)"
   ]
  },
  {
   "cell_type": "code",
   "execution_count": 10,
   "id": "85c8bb25-d8a5-4cae-acf1-deda309352e1",
   "metadata": {},
   "outputs": [
    {
     "data": {
      "text/plain": [
       "('ajay', 'vijay', 'ram', 'shyam')"
      ]
     },
     "execution_count": 10,
     "metadata": {},
     "output_type": "execute_result"
    }
   ],
   "source": [
    "B"
   ]
  },
  {
   "cell_type": "code",
   "execution_count": 15,
   "id": "69acb82b-a05e-41c0-a921-3fbb38c773d2",
   "metadata": {},
   "outputs": [],
   "source": [
    "# Convert a tuple to a list\n",
    "tup=('bly','mbd','gzh')\n",
    "string=list(tup)"
   ]
  },
  {
   "cell_type": "code",
   "execution_count": 16,
   "id": "b1a76ea1-1a7b-4298-b404-3a8c362c9904",
   "metadata": {},
   "outputs": [
    {
     "data": {
      "text/plain": [
       "['bly', 'mbd', 'gzh']"
      ]
     },
     "execution_count": 16,
     "metadata": {},
     "output_type": "execute_result"
    }
   ],
   "source": [
    "string"
   ]
  },
  {
   "cell_type": "code",
   "execution_count": 17,
   "id": "11bff300-5b21-44e3-b766-7bb764bc04e6",
   "metadata": {},
   "outputs": [
    {
     "data": {
      "text/plain": [
       "list"
      ]
     },
     "execution_count": 17,
     "metadata": {},
     "output_type": "execute_result"
    }
   ],
   "source": [
    "type(string)"
   ]
  },
  {
   "cell_type": "code",
   "execution_count": 26,
   "id": "493fe948-b277-43aa-8c64-6193f03e1c86",
   "metadata": {},
   "outputs": [
    {
     "name": "stdin",
     "output_type": "stream",
     "text": [
      "enter the number 5\n"
     ]
    },
    {
     "name": "stdout",
     "output_type": "stream",
     "text": [
      "0b101\n"
     ]
    }
   ],
   "source": [
    "#convert a decimal number to binary number\n",
    "a=input('enter the number' )\n",
    "b=int(a)\n",
    "print(bin(b))\n"
   ]
  },
  {
   "cell_type": "code",
   "execution_count": 28,
   "id": "11bfc95e-14ea-4f90-9227-1140456ded5d",
   "metadata": {},
   "outputs": [
    {
     "data": {
      "text/plain": [
       "'0b110100'"
      ]
     },
     "execution_count": 28,
     "metadata": {},
     "output_type": "execute_result"
    }
   ],
   "source": [
    "i=52\n",
    "bin(i)"
   ]
  },
  {
   "cell_type": "code",
   "execution_count": 29,
   "id": "12ca1fc7-f481-4686-960f-63e381e5b3e1",
   "metadata": {},
   "outputs": [
    {
     "data": {
      "text/plain": [
       "True"
      ]
     },
     "execution_count": 29,
     "metadata": {},
     "output_type": "execute_result"
    }
   ],
   "source": [
    "#Convert a non-zero number to boolean.\n",
    "8>7"
   ]
  },
  {
   "cell_type": "code",
   "execution_count": null,
   "id": "98a3b525-ec9a-46f9-8dfc-8882be334dcc",
   "metadata": {},
   "outputs": [],
   "source": []
  }
 ],
 "metadata": {
  "kernelspec": {
   "display_name": "Python 3 (ipykernel)",
   "language": "python",
   "name": "python3"
  },
  "language_info": {
   "codemirror_mode": {
    "name": "ipython",
    "version": 3
   },
   "file_extension": ".py",
   "mimetype": "text/x-python",
   "name": "python",
   "nbconvert_exporter": "python",
   "pygments_lexer": "ipython3",
   "version": "3.10.8"
  }
 },
 "nbformat": 4,
 "nbformat_minor": 5
}
